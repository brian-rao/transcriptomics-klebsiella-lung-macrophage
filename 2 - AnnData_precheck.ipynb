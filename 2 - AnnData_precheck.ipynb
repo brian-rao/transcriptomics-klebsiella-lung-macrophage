{
 "cells": [
  {
   "cell_type": "code",
   "execution_count": 15,
   "id": "92a6a22e-d572-4e7a-ba11-9f8773cefe25",
   "metadata": {},
   "outputs": [],
   "source": [
    "import anndata as ad\n",
    "import scanpy as sc\n",
    "import numpy as np"
   ]
  },
  {
   "cell_type": "code",
   "execution_count": 3,
   "id": "2f6e2dbc-5ffc-4743-af66-bf4621b2e879",
   "metadata": {},
   "outputs": [],
   "source": [
    "adata = sc.read_h5ad('GSE184290_data.h5ad')"
   ]
  },
  {
   "cell_type": "code",
   "execution_count": 6,
   "id": "a9784710-7244-4d55-a59b-6086a8dbf7af",
   "metadata": {},
   "outputs": [
    {
     "name": "stdout",
     "output_type": "stream",
     "text": [
      "<class 'numpy.ndarray'>\n"
     ]
    }
   ],
   "source": [
    "print(type(adata.X)) # a dense matrix, since this data is processed"
   ]
  },
  {
   "cell_type": "code",
   "execution_count": 7,
   "id": "a0e93d1f-2e79-46b8-89be-83089aabd5e7",
   "metadata": {},
   "outputs": [
    {
     "name": "stdout",
     "output_type": "stream",
     "text": [
      "Empty DataFrame\n",
      "Columns: []\n",
      "Index: [Mrpl15, Lypla1, Gm37988, Tcea1, Atp6v1h]\n"
     ]
    }
   ],
   "source": [
    "print(adata.var.head())"
   ]
  },
  {
   "cell_type": "code",
   "execution_count": 8,
   "id": "8706f527-9fa3-47a2-b916-d053b17ba6f2",
   "metadata": {},
   "outputs": [
    {
     "name": "stdout",
     "output_type": "stream",
     "text": [
      "Series([], dtype: float64)\n"
     ]
    }
   ],
   "source": [
    "print(adata.var.isnull().sum())"
   ]
  },
  {
   "cell_type": "code",
   "execution_count": 9,
   "id": "a1592d80-f734-4c15-b0d4-80fddc02630b",
   "metadata": {},
   "outputs": [
    {
     "name": "stdout",
     "output_type": "stream",
     "text": [
      "[]\n"
     ]
    }
   ],
   "source": [
    "print(adata.obsm_keys())"
   ]
  },
  {
   "cell_type": "code",
   "execution_count": 10,
   "id": "8e6e492f-f4e4-47db-8753-a2b0ac9d9e36",
   "metadata": {},
   "outputs": [],
   "source": [
    "if 'X_pca' in adata.obsm_keys():\n",
    "    print(f\"Shape of PCA embedding: {adata.obsm['X_pca'].shape}\")\n",
    "if 'X_umap' in adata.obsm_keys():\n",
    "    print(f\"Shape of UMAP embedding: {adata.obsm['X_umap'].shape}\")"
   ]
  },
  {
   "cell_type": "code",
   "execution_count": 11,
   "id": "bb72956e-0cb2-45f2-ba8c-288a864eb3be",
   "metadata": {},
   "outputs": [
    {
     "name": "stdout",
     "output_type": "stream",
     "text": [
      "odict_keys([])\n"
     ]
    }
   ],
   "source": [
    "print(adata.uns.keys())"
   ]
  },
  {
   "cell_type": "code",
   "execution_count": 12,
   "id": "3b0c8967-239e-4c2a-9a01-de463d97756d",
   "metadata": {},
   "outputs": [],
   "source": [
    "if 'log1p' in adata.uns: # Example: check for log-transformation info\n",
    "    print(f\"Log1p data in uns: {adata.uns['log1p']}\")"
   ]
  },
  {
   "cell_type": "code",
   "execution_count": 13,
   "id": "c2c31315-06a2-4d56-8b0e-96686b8a0136",
   "metadata": {},
   "outputs": [
    {
     "name": "stdout",
     "output_type": "stream",
     "text": [
      "Min value in adata.X: 0.0\n",
      "Max value in adata.X: 8956.0\n",
      "Mean value in adata.X: 1.0460280179977417\n",
      "Standard deviation in adata.X: 12.608473777770996\n"
     ]
    }
   ],
   "source": [
    "print(f\"Min value in adata.X: {adata.X.min()}\")\n",
    "print(f\"Max value in adata.X: {adata.X.max()}\")\n",
    "print(f\"Mean value in adata.X: {adata.X.mean()}\")\n",
    "print(f\"Standard deviation in adata.X: {adata.X.std()}\")"
   ]
  },
  {
   "cell_type": "code",
   "execution_count": 16,
   "id": "71d75535-facb-41f7-934f-1017b74a1006",
   "metadata": {},
   "outputs": [],
   "source": [
    "if np.isnan(adata.X).any():\n",
    "    print(\"WARNING: adata.X contains NaN values!\")\n",
    "if np.isinf(adata.X).any():\n",
    "    print(\"WARNING: adata.X contains infinite values!\")"
   ]
  },
  {
   "cell_type": "code",
   "execution_count": 17,
   "id": "2c1cdd5a-9933-4c66-a25d-a122da42b797",
   "metadata": {},
   "outputs": [],
   "source": [
    "import matplotlib.pyplot as plt\n",
    "\n",
    "if 'X_umap' in adata.obsm_keys():\n",
    "    # Replace 'cell_type' and 'batch' with actual metadata columns in adata.obs if they exist\n",
    "    # For example, if you have a column named 'my_clusters' and 'sample_id'\n",
    "    sc.pl.umap(adata, color=['my_clusters', 'sample_id'], title='UMAP colored by Clusters and Sample')\n",
    "    plt.show()\n",
    "\n",
    "if 'X_pca' in adata.obsm_keys():\n",
    "    # You can color by gene expression (e.g., a highly expressed gene) or a QC metric\n",
    "    sc.pl.pca(adata, color='n_genes_by_counts', title='PCA colored by Number of Genes')\n",
    "    plt.show()"
   ]
  },
  {
   "cell_type": "code",
   "execution_count": null,
   "id": "10df1f91-cac4-4051-8be4-fce031502e4d",
   "metadata": {},
   "outputs": [],
   "source": []
  }
 ],
 "metadata": {
  "kernelspec": {
   "display_name": "Python 3 (ipykernel)",
   "language": "python",
   "name": "python3"
  },
  "language_info": {
   "codemirror_mode": {
    "name": "ipython",
    "version": 3
   },
   "file_extension": ".py",
   "mimetype": "text/x-python",
   "name": "python",
   "nbconvert_exporter": "python",
   "pygments_lexer": "ipython3",
   "version": "3.9.23"
  }
 },
 "nbformat": 4,
 "nbformat_minor": 5
}
