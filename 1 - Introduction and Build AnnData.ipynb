{
 "cells": [
  {
   "cell_type": "markdown",
   "id": "432d0301-52fd-414c-a825-d162297b79f7",
   "metadata": {},
   "source": [
    "# Host-Pathogen Interaction Analysis: Klebsiella pneumoniae in Lung Macrophages\n",
    "\n",
    "## Study Overview\n",
    "\n",
    "This analysis examines the transcriptional response of lung macrophages to *Klebsiella pneumoniae* infection using single-cell RNA sequencing data from **GSE184290**. The study focuses on two distinct macrophage populations in the lung:\n",
    "\n",
    "- **Alveolar Macrophages (AM)**: Resident macrophages in the alveolar space\n",
    "- **Interstitial Macrophages (IM)**: Macrophages in the lung interstitium\n",
    "\n",
    "## Experimental Design\n",
    "\n",
    "**Conditions analyzed:**\n",
    "- **KP+**: Cells infected with *Klebsiella pneumoniae*\n",
    "- **KP-**: Uninfected cells from infected animals (bystander effect)\n",
    "- **Control**: Cells from uninfected control animals\n",
    "\n",
    "**Sample Groups:**\n",
    "- `GSM5583415`: AM_KP- (Alveolar macrophages, uninfected from infected mice)\n",
    "- `GSM5583416`: AM_KP+ (Alveolar macrophages, infected)\n",
    "- `GSM5583417`: IM_KP- (Interstitial macrophages, uninfected from infected mice)\n",
    "- `GSM5583418`: IM_KP+ (Interstitial macrophages, infected)\n",
    "- `GSM5583419`: AM_Control (Alveolar macrophages, control)\n",
    "- `GSM5583420`: IM_Control (Interstitial macrophages, control)\n",
    "\n",
    "## Analysis Pipeline\n",
    "\n",
    "This notebook performs the initial data construction and validation steps:\n",
    "\n",
    "1. **Data Loading**: Import purified and downsampled count matrices\n",
    "2. **Metadata Integration**: Fetch and merge sample metadata from GEO\n",
    "3. **AnnData Construction**: Create standardized single-cell data object\n",
    "4. **Data Validation**: Verify data integrity and structure\n",
    "\n",
    "The resulting AnnData object will serve as input for downstream quality control, clustering, and differential expression analyses."
   ]
  },
  {
   "cell_type": "markdown",
   "id": "5b5f1bc8-0b40-4783-a860-fab4c748bc1f",
   "metadata": {},
   "source": [
    "## Data Loading and Preprocessing\n",
    "\n",
    "### Sample File Mapping\n",
    "\n",
    "The analysis uses purified and downsampled count matrices for each sample. Each file contains gene expression counts for the respective macrophage population and treatment condition."
   ]
  },
  {
   "cell_type": "code",
   "execution_count": 1,
   "id": "f267f184-7014-458c-8b08-086229ad2238",
   "metadata": {},
   "outputs": [],
   "source": [
    "import pandas as pd\n",
    "import anndata as ad\n",
    "import scanpy as sc\n",
    "import numpy as np\n",
    "import matplotlib.pyplot as plt\n",
    "import os\n",
    "import GEOparse\n",
    "\n",
    "sc.settings.verbosity = 1"
   ]
  },
  {
   "cell_type": "code",
   "execution_count": 2,
   "id": "497fa4dd-a4fa-4f30-915b-f964b3e6a154",
   "metadata": {},
   "outputs": [],
   "source": [
    "sample_files = {\n",
    "    'GSM5583415': 'data/purified/GSM5583415_PN0162_0001_counts_purified_downsampled.txt',  # AM_KP-\n",
    "    'GSM5583416': 'data/purified/GSM5583416_PN0162_0002_counts_purified_downsampled.txt',  # AM_KP+\n",
    "    'GSM5583417': 'data/purified/GSM5583417_PN0162_0003_counts_purified_downsampled.txt',  # IM_KP-\n",
    "    'GSM5583418': 'data/purified/GSM5583418_PN0162_0004_counts_purified_downsampled.txt',  # IM_KP+\n",
    "    'GSM5583419': 'data/purified/GSM5583419_PN0162_0005_counts_purified_downsampled.txt',  # AM_Control\n",
    "    'GSM5583420': 'data/purified/GSM5583420_PN0162_0006_counts_purified_downsampled.txt',  # IM_Control\n",
    "}"
   ]
  },
  {
   "cell_type": "markdown",
   "id": "327f1b3b-9a73-4bf1-a6bb-27c3aa29d33d",
   "metadata": {},
   "source": [
    "### Matrix Concatenation\n",
    "\n",
    "Load and concatenate all sample count matrices into a single dataset. Each matrix is transposed from the original genes × cells format to the standard cells × genes format required by AnnData."
   ]
  },
  {
   "cell_type": "code",
   "execution_count": 3,
   "id": "c1bf2bdf-9260-4c05-9f7c-4bdd3940a731",
   "metadata": {},
   "outputs": [
    {
     "name": "stdout",
     "output_type": "stream",
     "text": [
      "Loaded GSM5583415: 422 cells × 15547 genes\n",
      "Loaded GSM5583416: 422 cells × 15547 genes\n",
      "Loaded GSM5583417: 422 cells × 15547 genes\n",
      "Loaded GSM5583418: 422 cells × 15547 genes\n",
      "Loaded GSM5583419: 422 cells × 15547 genes\n",
      "Loaded GSM5583420: 422 cells × 15547 genes\n",
      "\n",
      "Total samples processed: 6\n"
     ]
    }
   ],
   "source": [
    "combined_data = []\n",
    "\n",
    "for gsm_id, file_path in sample_files.items():\n",
    "    # Load count matrix (genes × cells)\n",
    "    counts_df = pd.read_csv(file_path, sep='\\t', index_col=0)\n",
    "    \n",
    "    # Transpose to cells × genes format\n",
    "    counts_transposed = counts_df.T\n",
    "    \n",
    "    # Add sample identifier for metadata tracking\n",
    "    counts_transposed['sample_id'] = gsm_id\n",
    "    \n",
    "    combined_data.append(counts_transposed)\n",
    "    print(f\"Loaded {gsm_id}: {counts_transposed.shape[0]} cells × {counts_transposed.shape[1]-1} genes\")\n",
    "\n",
    "print(f\"\\nTotal samples processed: {len(combined_data)}\")"
   ]
  },
  {
   "cell_type": "code",
   "execution_count": 4,
   "id": "5838af02-0475-45c4-9af7-f20879b946fe",
   "metadata": {},
   "outputs": [
    {
     "name": "stdout",
     "output_type": "stream",
     "text": [
      "Combined dataset shape: 2532 cells × 15547 genes\n",
      "Sample distribution:\n",
      "sample_id\n",
      "GSM5583415    422\n",
      "GSM5583416    422\n",
      "GSM5583417    422\n",
      "GSM5583418    422\n",
      "GSM5583419    422\n",
      "GSM5583420    422\n",
      "Name: count, dtype: int64\n"
     ]
    }
   ],
   "source": [
    "# Concatenate all samples into single matrix\n",
    "combined_counts = pd.concat(combined_data, axis=0, ignore_index=False)\n",
    "\n",
    "# Separate sample metadata from count matrix\n",
    "sample_metadata = combined_counts['sample_id'].copy()\n",
    "count_matrix = combined_counts.drop(columns=['sample_id'])\n",
    "\n",
    "print(f\"Combined dataset shape: {count_matrix.shape[0]} cells × {count_matrix.shape[1]} genes\")\n",
    "print(f\"Sample distribution:\")\n",
    "print(sample_metadata.value_counts().sort_index())"
   ]
  },
  {
   "cell_type": "markdown",
   "id": "5824160f-4fe2-4d6c-8880-ffe4e1f3b40b",
   "metadata": {},
   "source": [
    "## Metadata Integration\n",
    "\n",
    "### GEO Metadata Retrieval\n",
    "\n",
    "Fetch comprehensive sample metadata from the Gene Expression Omnibus (GEO) database to enrich our dataset with experimental details."
   ]
  },
  {
   "cell_type": "code",
   "execution_count": 5,
   "id": "079b3ca4-94cf-4478-b913-43b14334f1f0",
   "metadata": {},
   "outputs": [
    {
     "name": "stderr",
     "output_type": "stream",
     "text": [
      "06-Jul-2025 15:32:46 DEBUG utils - Directory ./metadata already exists. Skipping.\n",
      "06-Jul-2025 15:32:46 INFO GEOparse - File already exist: using local version.\n",
      "06-Jul-2025 15:32:46 INFO GEOparse - Parsing ./metadata/GSE184290_family.soft.gz: \n",
      "06-Jul-2025 15:32:46 DEBUG GEOparse - DATABASE: GeoMiame\n",
      "06-Jul-2025 15:32:46 DEBUG GEOparse - SERIES: GSE184290\n",
      "06-Jul-2025 15:32:46 DEBUG GEOparse - PLATFORM: GPL24247\n",
      "06-Jul-2025 15:32:46 DEBUG GEOparse - SAMPLE: GSM5583415\n",
      "06-Jul-2025 15:32:46 DEBUG GEOparse - SAMPLE: GSM5583416\n",
      "06-Jul-2025 15:32:46 DEBUG GEOparse - SAMPLE: GSM5583417\n",
      "06-Jul-2025 15:32:46 DEBUG GEOparse - SAMPLE: GSM5583418\n",
      "06-Jul-2025 15:32:46 DEBUG GEOparse - SAMPLE: GSM5583419\n",
      "06-Jul-2025 15:32:46 DEBUG GEOparse - SAMPLE: GSM5583420\n"
     ]
    },
    {
     "name": "stdout",
     "output_type": "stream",
     "text": [
      "Retrieved metadata for 6 samples\n",
      "Sample information:\n",
      "                 title source_name_ch1  organism_ch1\n",
      "sample_id                                           \n",
      "GSM5583415      AM_KP-            Lung  Mus musculus\n",
      "GSM5583416      AM_KP+            Lung  Mus musculus\n",
      "GSM5583417      IM_KP-            Lung  Mus musculus\n",
      "GSM5583418      IM_KP+            Lung  Mus musculus\n",
      "GSM5583419  AM_Control            Lung  Mus musculus\n"
     ]
    }
   ],
   "source": [
    "# Download and parse GEO metadata\n",
    "gse_id = \"GSE184290\"\n",
    "download_dir = './metadata'\n",
    "os.makedirs(download_dir, exist_ok=True)\n",
    "\n",
    "gse = GEOparse.get_GEO(geo=gse_id, destdir=download_dir)\n",
    "\n",
    "# Extract sample metadata\n",
    "sample_metadata_list = []\n",
    "for gsm_id, gsm_obj in gse.gsms.items():\n",
    "    metadata = {key: value[0] if value else None for key, value in gsm_obj.metadata.items()}\n",
    "    metadata['sample_id'] = gsm_id\n",
    "    sample_metadata_list.append(metadata)\n",
    "\n",
    "geo_metadata = pd.DataFrame(sample_metadata_list).set_index('sample_id')\n",
    "\n",
    "print(f\"Retrieved metadata for {len(geo_metadata)} samples\")\n",
    "print(\"Sample information:\")\n",
    "print(geo_metadata[['title', 'source_name_ch1', 'organism_ch1']].head())"
   ]
  },
  {
   "cell_type": "markdown",
   "id": "3e5316ff-7fb0-4e11-818e-dfe166e78dc1",
   "metadata": {},
   "source": [
    "## AnnData Construction\n",
    "\n",
    "### Create AnnData Object\n",
    "\n",
    "Construct the standardized AnnData object with integrated count data and metadata."
   ]
  },
  {
   "cell_type": "code",
   "execution_count": 6,
   "id": "4f1a1a95-1dd9-4463-ad64-9505a8cf7672",
   "metadata": {},
   "outputs": [
    {
     "name": "stdout",
     "output_type": "stream",
     "text": [
      "AnnData object created: 2532 cells × 15547 genes\n",
      "Metadata columns: 37\n",
      "Experimental conditions: ['AM_Control', 'AM_KP+', 'AM_KP-', 'IM_Control', 'IM_KP+', 'IM_KP-']\n"
     ]
    }
   ],
   "source": [
    "# Create AnnData object\n",
    "adata = ad.AnnData(count_matrix)\n",
    "\n",
    "# Add sample metadata to observations\n",
    "adata.obs['sample_id'] = sample_metadata.loc[adata.obs_names]\n",
    "\n",
    "# Merge with GEO metadata\n",
    "adata.obs = adata.obs.merge(\n",
    "    geo_metadata,\n",
    "    left_on='sample_id',\n",
    "    right_index=True,\n",
    "    how='left'\n",
    ").set_index(adata.obs_names)\n",
    "\n",
    "# Create cleaner column names for analysis\n",
    "adata.obs['condition'] = adata.obs['title']\n",
    "\n",
    "# Ensure unique gene names\n",
    "adata.var_names_make_unique()\n",
    "\n",
    "print(f\"AnnData object created: {adata.shape[0]} cells × {adata.shape[1]} genes\")\n",
    "print(f\"Metadata columns: {len(adata.obs.columns)}\")\n",
    "print(f\"Experimental conditions: {sorted(adata.obs['condition'].unique())}\")"
   ]
  },
  {
   "cell_type": "code",
   "execution_count": 7,
   "id": "146a97fb-679b-47be-b7ab-9b0c6dbb48bc",
   "metadata": {},
   "outputs": [
    {
     "name": "stdout",
     "output_type": "stream",
     "text": [
      "AnnData object saved to: GSE184290_data.h5ad\n",
      "Dataset summary:\n",
      "  - 2,532 cells\n",
      "  - 15,547 genes\n",
      "  - 6 samples\n",
      "  - Conditions: ['AM_Control', 'AM_KP+', 'AM_KP-', 'IM_Control', 'IM_KP+', 'IM_KP-']\n"
     ]
    }
   ],
   "source": [
    "# Save the constructed AnnData object\n",
    "output_file = \"GSE184290_data.h5ad\"\n",
    "adata.write(output_file)\n",
    "\n",
    "print(f\"AnnData object saved to: {output_file}\")\n",
    "print(f\"Dataset summary:\")\n",
    "print(f\"  - {adata.n_obs:,} cells\")\n",
    "print(f\"  - {adata.n_vars:,} genes\") \n",
    "print(f\"  - {len(adata.obs['sample_id'].unique())} samples\")\n",
    "print(f\"  - Conditions: {sorted(adata.obs['condition'].unique())}\")"
   ]
  },
  {
   "cell_type": "markdown",
   "id": "531c5efd-772e-4c7d-8ecc-ee1ff57ef311",
   "metadata": {},
   "source": [
    "## Data Validation\n",
    "\n",
    "### Load and Inspect AnnData Object\n",
    "\n",
    "Verify the integrity and structure of the constructed dataset before proceeding with downstream analyses."
   ]
  },
  {
   "cell_type": "code",
   "execution_count": 8,
   "id": "3087fcc4-c49f-4d95-bee0-f6ae2e2ecbbc",
   "metadata": {},
   "outputs": [
    {
     "name": "stdout",
     "output_type": "stream",
     "text": [
      "=== Dataset Overview ===\n",
      "Data matrix type: <class 'numpy.ndarray'>\n",
      "Shape: 2,532 cells × 15,547 genes\n",
      "Data type: int64\n",
      "Is sparse: False\n",
      "\n",
      "=== Sample Distribution ===\n",
      "  AM_Control: 422 cells\n",
      "  AM_KP+: 422 cells\n",
      "  AM_KP-: 422 cells\n",
      "  IM_Control: 422 cells\n",
      "  IM_KP+: 422 cells\n",
      "  IM_KP-: 422 cells\n",
      "\n",
      "Total cells: 2,532\n",
      "Average cells per sample: 422\n"
     ]
    }
   ],
   "source": [
    "# Load the saved AnnData object\n",
    "adata = sc.read_h5ad('GSE184290_data.h5ad')\n",
    "\n",
    "print(\"=== Dataset Overview ===\")\n",
    "print(f\"Data matrix type: {type(adata.X)}\")\n",
    "print(f\"Shape: {adata.shape[0]:,} cells × {adata.shape[1]:,} genes\")\n",
    "print(f\"Data type: {adata.X.dtype}\")\n",
    "print(f\"Is sparse: {hasattr(adata.X, 'nnz')}\")\n",
    "\n",
    "print(\"\\n=== Sample Distribution ===\")\n",
    "sample_counts = adata.obs['condition'].value_counts()\n",
    "for condition, count in sample_counts.items():\n",
    "    print(f\"  {condition}: {count:,} cells\")\n",
    "\n",
    "print(f\"\\nTotal cells: {sample_counts.sum():,}\")\n",
    "print(f\"Average cells per sample: {sample_counts.mean():.0f}\")"
   ]
  },
  {
   "cell_type": "markdown",
   "id": "b037239e-9438-4c4a-9cf6-db29cf8dcf65",
   "metadata": {},
   "source": [
    "### Data Quality Checks\n",
    "\n",
    "Perform comprehensive quality checks on the count matrix to ensure data integrity."
   ]
  },
  {
   "cell_type": "code",
   "execution_count": 9,
   "id": "f4bd10a4-2e94-426f-b9d6-1ed37be0e53b",
   "metadata": {},
   "outputs": [
    {
     "name": "stdout",
     "output_type": "stream",
     "text": [
      "=== Expression Matrix Statistics ===\n",
      "Minimum count: 0\n",
      "Maximum count: 8956\n",
      "Mean count: 1.046\n",
      "Standard deviation: 12.608\n",
      "Median count: 0.000\n",
      "\n",
      "=== Data Integrity Checks ===\n",
      "Contains NaN values: False\n",
      "Contains infinite values: False\n",
      "Contains negative values: False\n",
      "Data integrity checks passed\n"
     ]
    }
   ],
   "source": [
    "print(\"=== Expression Matrix Statistics ===\")\n",
    "print(f\"Minimum count: {adata.X.min()}\")\n",
    "print(f\"Maximum count: {adata.X.max()}\")\n",
    "print(f\"Mean count: {adata.X.mean():.3f}\")\n",
    "print(f\"Standard deviation: {adata.X.std():.3f}\")\n",
    "print(f\"Median count: {np.median(adata.X):.3f}\")\n",
    "\n",
    "print(\"\\n=== Data Integrity Checks ===\")\n",
    "nan_check = np.isnan(adata.X).any()\n",
    "inf_check = np.isinf(adata.X).any()\n",
    "negative_check = (adata.X < 0).any()\n",
    "\n",
    "print(f\"Contains NaN values: {nan_check}\")\n",
    "print(f\"Contains infinite values: {inf_check}\")\n",
    "print(f\"Contains negative values: {negative_check}\")\n",
    "\n",
    "if nan_check or inf_check or negative_check:\n",
    "    print(\"WARNING: Data integrity issues detected!\")\n",
    "else:\n",
    "    print(\"Data integrity checks passed\")"
   ]
  },
  {
   "cell_type": "markdown",
   "id": "bb72956e-0cb2-45f2-ba8c-288a864eb3be",
   "metadata": {},
   "source": [
    "### Metadata and Structure Validation\n",
    "\n",
    "Verify that the AnnData object has the expected structure and metadata organization."
   ]
  },
  {
   "cell_type": "code",
   "execution_count": 10,
   "id": "80868907-8ede-496f-8a18-fbac8bc0cc22",
   "metadata": {},
   "outputs": [
    {
     "name": "stdout",
     "output_type": "stream",
     "text": [
      "=== AnnData Structure ===\n",
      "Observations (cells): 2,532\n",
      "Variables (genes): 15,547\n",
      "Observation metadata columns: 37\n",
      "Variable metadata columns: 0\n",
      "\n",
      "Unstructured annotations: []\n",
      "Observation matrices: []\n",
      "Variable matrices: []\n",
      "\n",
      "=== Key Metadata Columns ===\n",
      "  sample_id: 6 unique values\n",
      "  condition: 6 unique values\n",
      "  organism_ch1: 1 unique values\n",
      "  platform_id: 1 unique values\n",
      "\n",
      "=== Sample Metadata Preview ===\n",
      "                     sample_id condition  organism_ch1\n",
      "TGCTTCGTCTGTACAG_1  GSM5583415    AM_KP-  Mus musculus\n",
      "AGTAGCTAGTAACCTC_1  GSM5583415    AM_KP-  Mus musculus\n",
      "GTGGAGAAGAGTACCG_1  GSM5583415    AM_KP-  Mus musculus\n",
      "GTAATGCTCTCATTAC_1  GSM5583415    AM_KP-  Mus musculus\n",
      "CGCATAAAGTCGAAAT_1  GSM5583415    AM_KP-  Mus musculus\n"
     ]
    }
   ],
   "source": [
    "print(\"=== AnnData Structure ===\")\n",
    "print(f\"Observations (cells): {adata.n_obs:,}\")\n",
    "print(f\"Variables (genes): {adata.n_vars:,}\")\n",
    "print(f\"Observation metadata columns: {adata.obs.shape[1]}\")\n",
    "print(f\"Variable metadata columns: {adata.var.shape[1]}\")\n",
    "\n",
    "print(f\"\\nUnstructured annotations: {list(adata.uns.keys())}\")\n",
    "print(f\"Observation matrices: {list(adata.obsm.keys())}\")\n",
    "print(f\"Variable matrices: {list(adata.varm.keys())}\")\n",
    "\n",
    "print(\"\\n=== Key Metadata Columns ===\")\n",
    "key_columns = ['sample_id', 'condition', 'organism_ch1', 'platform_id']\n",
    "for col in key_columns:\n",
    "    if col in adata.obs.columns:\n",
    "        unique_vals = adata.obs[col].nunique()\n",
    "        print(f\"  {col}: {unique_vals} unique values\")\n",
    "    else:\n",
    "        print(f\"  {col}: not found\")\n",
    "\n",
    "print(\"\\n=== Sample Metadata Preview ===\")\n",
    "display_cols = ['sample_id', 'condition', 'organism_ch1'] \n",
    "available_cols = [col for col in display_cols if col in adata.obs.columns]\n",
    "if available_cols:\n",
    "    print(adata.obs[available_cols].head())"
   ]
  },
  {
   "cell_type": "code",
   "execution_count": 11,
   "id": "e7755b59-6c8c-4e18-af0e-206a8fa89b4f",
   "metadata": {},
   "outputs": [
    {
     "name": "stdout",
     "output_type": "stream",
     "text": [
      "=== Validation Summary ===\n",
      "Successfully constructed AnnData object\n",
      "2,532 cells from 6 samples\n",
      "15,547 genes with unique identifiers\n",
      "Comprehensive metadata integrated from GEO\n",
      "Data ready for quality control and downstream analysis\n",
      "\n",
      "Output file: GSE184290_data.h5ad\n",
      "Next steps: Quality control, normalization, and clustering\n"
     ]
    }
   ],
   "source": [
    "print(\"=== Validation Summary ===\")\n",
    "print(f\"Successfully constructed AnnData object\")\n",
    "print(f\"{adata.n_obs:,} cells from {len(adata.obs['sample_id'].unique())} samples\")\n",
    "print(f\"{adata.n_vars:,} genes with unique identifiers\")\n",
    "print(f\"Comprehensive metadata integrated from GEO\")\n",
    "print(f\"Data ready for quality control and downstream analysis\")\n",
    "\n",
    "print(f\"\\nOutput file: GSE184290_data.h5ad\")\n",
    "print(f\"Next steps: Quality control, normalization, and clustering\")"
   ]
  },
  {
   "cell_type": "code",
   "execution_count": null,
   "id": "e2dc8b84-888e-4da6-9605-add60e38a59d",
   "metadata": {},
   "outputs": [],
   "source": []
  },
  {
   "cell_type": "code",
   "execution_count": null,
   "id": "09278a42-564a-4be7-bb45-e1d0df8a609c",
   "metadata": {},
   "outputs": [],
   "source": []
  }
 ],
 "metadata": {
  "kernelspec": {
   "display_name": "Python 3 (ipykernel)",
   "language": "python",
   "name": "python3"
  },
  "language_info": {
   "codemirror_mode": {
    "name": "ipython",
    "version": 3
   },
   "file_extension": ".py",
   "mimetype": "text/x-python",
   "name": "python",
   "nbconvert_exporter": "python",
   "pygments_lexer": "ipython3",
   "version": "3.9.23"
  }
 },
 "nbformat": 4,
 "nbformat_minor": 5
}
