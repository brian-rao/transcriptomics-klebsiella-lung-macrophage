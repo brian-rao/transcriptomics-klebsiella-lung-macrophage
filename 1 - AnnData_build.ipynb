{
 "cells": [
  {
   "cell_type": "markdown",
   "id": "0eaf1ca9-f2f7-413f-91d0-a8e9bc69158e",
   "metadata": {},
   "source": [
    "AnnData Object Build"
   ]
  },
  {
   "cell_type": "markdown",
   "id": "5b5f1bc8-0b40-4783-a860-fab4c748bc1f",
   "metadata": {},
   "source": [
    "## Construct AnnData objects from matrix txt files"
   ]
  },
  {
   "cell_type": "code",
   "execution_count": 38,
   "id": "f267f184-7014-458c-8b08-086229ad2238",
   "metadata": {},
   "outputs": [],
   "source": [
    "import pandas as pd\n",
    "import anndata as ad\n",
    "import scanpy as sc \n",
    "import os\n",
    "import GEOparse"
   ]
  },
  {
   "cell_type": "code",
   "execution_count": 39,
   "id": "497fa4dd-a4fa-4f30-915b-f964b3e6a154",
   "metadata": {},
   "outputs": [],
   "source": [
    "AM_KP_neg_txt = 'data/purified/GSM5583415_PN0162_0001_counts_purified_downsampled.txt'\n",
    "AM_KP_pos_txt = 'data/purified/GSM5583416_PN0162_0002_counts_purified_downsampled.txt'\n",
    "IM_KP_neg_txt = 'data/purified/GSM5583417_PN0162_0003_counts_purified_downsampled.txt'\n",
    "IM_KP_pos_txt = 'data/purified/GSM5583418_PN0162_0004_counts_purified_downsampled.txt'\n",
    "AM_Control_txt = 'data/purified/GSM5583419_PN0162_0005_counts_purified_downsampled.txt'\n",
    "IM_Control_txt = 'data/purified/GSM5583420_PN0162_0006_counts_purified_downsampled.txt'"
   ]
  },
  {
   "cell_type": "code",
   "execution_count": 29,
   "id": "327f1b3b-9a73-4bf1-a6bb-27c3aa29d33d",
   "metadata": {},
   "outputs": [],
   "source": [
    "AM_KP_neg_df = pd.read_csv(AM_KP_neg_txt, sep='\\t', index_col=0).T # flip rows x col\n",
    "AM_KP_pos_df = pd.read_csv(AM_KP_pos_txt, sep='\\t', index_col=0).T\n",
    "IM_KP_neg_df = pd.read_csv(IM_KP_neg_txt, sep='\\t', index_col=0).T\n",
    "IM_KP_pos_df = pd.read_csv(IM_KP_pos_txt, sep='\\t', index_col=0).T\n",
    "AM_Control_df = pd.read_csv(AM_Control_txt, sep='\\t', index_col=0).T\n",
    "IM_Control_df = pd.read_csv(IM_Control_txt, sep='\\t', index_col=0).T\n",
    "\n",
    "\n",
    "\n",
    "\n"
   ]
  },
  {
   "cell_type": "code",
   "execution_count": 30,
   "id": "c1bf2bdf-9260-4c05-9f7c-4bdd3940a731",
   "metadata": {},
   "outputs": [],
   "source": [
    "gsm_file_map = {\n",
    "    'GSM5583415': AM_KP_neg_txt,\n",
    "    'GSM5583416': AM_KP_pos_txt,\n",
    "    'GSM5583417': IM_KP_neg_txt,\n",
    "    'GSM5583418': IM_KP_pos_txt,\n",
    "    'GSM5583419': AM_Control_txt,\n",
    "    'GSM5583420': IM_Control_txt,\n",
    "}"
   ]
  },
  {
   "cell_type": "code",
   "execution_count": 31,
   "id": "8ccb88d3-5526-41a2-9d5c-dd421f4433c6",
   "metadata": {},
   "outputs": [
    {
     "name": "stdout",
     "output_type": "stream",
     "text": [
      "Loaded GSM5583415: shape (422, 15548)\n",
      "Loaded GSM5583416: shape (422, 15548)\n",
      "Loaded GSM5583417: shape (422, 15548)\n",
      "Loaded GSM5583418: shape (422, 15548)\n",
      "Loaded GSM5583419: shape (422, 15548)\n",
      "Loaded GSM5583420: shape (422, 15548)\n"
     ]
    }
   ],
   "source": [
    "list_of_dfs_to_concat = []\n",
    "for gsm_id, file_path in gsm_file_map.items():\n",
    "    # Load each file: genes as index, cells as columns\n",
    "    df_raw = pd.read_csv(file_path, sep='\\t', index_col=0)\n",
    "    # Transpose to cells x genes\n",
    "    df_transposed = df_raw.T\n",
    "    # Add a column to store the original sample (GSM) ID for each cell\n",
    "    df_transposed['original_sample_id'] = gsm_id\n",
    "    list_of_dfs_to_concat.append(df_transposed)\n",
    "    print(f\"Loaded {gsm_id}: shape {df_transposed.shape}\")"
   ]
  },
  {
   "cell_type": "code",
   "execution_count": 34,
   "id": "5838af02-0475-45c4-9af7-f20879b946fe",
   "metadata": {},
   "outputs": [
    {
     "name": "stdout",
     "output_type": "stream",
     "text": [
      "\n",
      "Combined counts_df shape (total cells x total genes): (2532, 15547)\n",
      "Combined counts_df head:\n",
      "                    Mrpl15  Lypla1  Gm37988  Tcea1  Atp6v1h  Rb1cc1  \\\n",
      "TGCTTCGTCTGTACAG_1       1       2        0      8        2       1   \n",
      "AGTAGCTAGTAACCTC_1       1       1        0      0        2       0   \n",
      "GTGGAGAAGAGTACCG_1       0       0        0      0        0       0   \n",
      "GTAATGCTCTCATTAC_1       2       2        0      0        0       1   \n",
      "CGCATAAAGTCGAAAT_1       3       0        0      3        4       1   \n",
      "\n",
      "                    4732440D04Rik  Pcmtd1  Gm26901  Rrs1  ...  Pacrg  Scube3  \\\n",
      "TGCTTCGTCTGTACAG_1              0       1        0     0  ...      0       0   \n",
      "AGTAGCTAGTAACCTC_1              0       3        0     1  ...      0       0   \n",
      "GTGGAGAAGAGTACCG_1              0       0        0     0  ...      0       0   \n",
      "GTAATGCTCTCATTAC_1              0       0        0     0  ...      0       0   \n",
      "CGCATAAAGTCGAAAT_1              0       2        0     2  ...      0       0   \n",
      "\n",
      "                    H2-M5  Dazl  Zfp521  Slc27a6  Slc22a12  1700092M07Rik  \\\n",
      "TGCTTCGTCTGTACAG_1      0     0       0        0         0              0   \n",
      "AGTAGCTAGTAACCTC_1      0     0       0        0         0              0   \n",
      "GTGGAGAAGAGTACCG_1      0     0       0        0         0              0   \n",
      "GTAATGCTCTCATTAC_1      0     0       0        0         0              0   \n",
      "CGCATAAAGTCGAAAT_1      0     0       0        0         0              0   \n",
      "\n",
      "                    Cnnm1  Col17a1  \n",
      "TGCTTCGTCTGTACAG_1      0        0  \n",
      "AGTAGCTAGTAACCTC_1      0        0  \n",
      "GTGGAGAAGAGTACCG_1      0        0  \n",
      "GTAATGCTCTCATTAC_1      0        0  \n",
      "CGCATAAAGTCGAAAT_1      0        0  \n",
      "\n",
      "[5 rows x 15547 columns]\n"
     ]
    }
   ],
   "source": [
    "# Concatenate all DataFrames into a single DataFrame\n",
    "# `axis=0` stacks them row-wise (adding more cells)\n",
    "combined_counts_df = pd.concat(list_of_dfs_to_concat, axis=0)\n",
    "# The 'original_sample_id' column will be used for metadata.\n",
    "# Remove it from the main matrix before creating AnnData\n",
    "original_sample_id_series = combined_counts_df['original_sample_id']\n",
    "combined_counts_df = combined_counts_df.drop(columns=['original_sample_id'])\n",
    "print(\"\\nCombined counts_df shape (total cells x total genes):\", combined_counts_df.shape)\n",
    "print(\"Combined counts_df head:\")\n",
    "print(combined_counts_df.head())"
   ]
  },
  {
   "cell_type": "code",
   "execution_count": 40,
   "id": "5824160f-4fe2-4d6c-8880-ffe4e1f3b40b",
   "metadata": {},
   "outputs": [
    {
     "name": "stderr",
     "output_type": "stream",
     "text": [
      "16-Jun-2025 18:35:09 INFO GEOparse - Downloading ftp://ftp.ncbi.nlm.nih.gov/geo/series/GSE184nnn/GSE184290/soft/GSE184290_family.soft.gz to ./GEO_downloads/GSE184290_family.soft.gz\n",
      "16-Jun-2025 18:35:09 INFO utils - Downloading ftp://ftp.ncbi.nlm.nih.gov/geo/series/GSE184nnn/GSE184290/soft/GSE184290_family.soft.gz to ./GEO_downloads/GSE184290_family.soft.gz\n",
      "\n"
     ]
    },
    {
     "name": "stdout",
     "output_type": "stream",
     "text": [
      " 100 % [==============================================================>]   2.9KiB /  2.9KiB    0.0KiB/s  eta unknown  "
     ]
    },
    {
     "name": "stderr",
     "output_type": "stream",
     "text": [
      "16-Jun-2025 18:35:11 INFO GEOparse - Parsing ./GEO_downloads/GSE184290_family.soft.gz: \n",
      "16-Jun-2025 18:35:11 DEBUG GEOparse - DATABASE: GeoMiame\n",
      "16-Jun-2025 18:35:11 DEBUG GEOparse - SERIES: GSE184290\n",
      "16-Jun-2025 18:35:11 DEBUG GEOparse - PLATFORM: GPL24247\n",
      "16-Jun-2025 18:35:11 DEBUG GEOparse - SAMPLE: GSM5583415\n",
      "16-Jun-2025 18:35:11 DEBUG GEOparse - SAMPLE: GSM5583416\n",
      "16-Jun-2025 18:35:11 DEBUG GEOparse - SAMPLE: GSM5583417\n",
      "16-Jun-2025 18:35:11 DEBUG GEOparse - SAMPLE: GSM5583418\n",
      "16-Jun-2025 18:35:11 DEBUG GEOparse - SAMPLE: GSM5583419\n",
      "16-Jun-2025 18:35:11 DEBUG GEOparse - SAMPLE: GSM5583420\n"
     ]
    },
    {
     "name": "stdout",
     "output_type": "stream",
     "text": [
      "\n",
      "\n",
      "Phenotypic Data DataFrame shape (samples x features): (6, 35)\n",
      "Phenotypic Data DataFrame head:\n",
      "                 title geo_accession                 status submission_date  \\\n",
      "sample_id                                                                     \n",
      "GSM5583415      AM_KP-    GSM5583415  Public on Sep 16 2022     Sep 16 2021   \n",
      "GSM5583416      AM_KP+    GSM5583416  Public on Sep 16 2022     Sep 16 2021   \n",
      "GSM5583417      IM_KP-    GSM5583417  Public on Sep 16 2022     Sep 16 2021   \n",
      "GSM5583418      IM_KP+    GSM5583418  Public on Sep 16 2022     Sep 16 2021   \n",
      "GSM5583419  AM_Control    GSM5583419  Public on Sep 16 2022     Sep 16 2021   \n",
      "\n",
      "           last_update_date type channel_count source_name_ch1  organism_ch1  \\\n",
      "sample_id                                                                      \n",
      "GSM5583415      Sep 16 2022  SRA             1            Lung  Mus musculus   \n",
      "GSM5583416      Sep 16 2022  SRA             1            Lung  Mus musculus   \n",
      "GSM5583417      Sep 16 2022  SRA             1            Lung  Mus musculus   \n",
      "GSM5583418      Sep 16 2022  SRA             1            Lung  Mus musculus   \n",
      "GSM5583419      Sep 16 2022  SRA             1            Lung  Mus musculus   \n",
      "\n",
      "           taxid_ch1  ... contact_country       instrument_model  \\\n",
      "sample_id             ...                                          \n",
      "GSM5583415     10090  ...  United Kingdom  Illumina NovaSeq 6000   \n",
      "GSM5583416     10090  ...  United Kingdom  Illumina NovaSeq 6000   \n",
      "GSM5583417     10090  ...  United Kingdom  Illumina NovaSeq 6000   \n",
      "GSM5583418     10090  ...  United Kingdom  Illumina NovaSeq 6000   \n",
      "GSM5583419     10090  ...  United Kingdom  Illumina NovaSeq 6000   \n",
      "\n",
      "           library_selection  library_source library_strategy  \\\n",
      "sample_id                                                       \n",
      "GSM5583415              cDNA  transcriptomic          RNA-Seq   \n",
      "GSM5583416              cDNA  transcriptomic          RNA-Seq   \n",
      "GSM5583417              cDNA  transcriptomic          RNA-Seq   \n",
      "GSM5583418              cDNA  transcriptomic          RNA-Seq   \n",
      "GSM5583419              cDNA  transcriptomic          RNA-Seq   \n",
      "\n",
      "                                                     relation  \\\n",
      "sample_id                                                       \n",
      "GSM5583415  BioSample: https://www.ncbi.nlm.nih.gov/biosam...   \n",
      "GSM5583416  BioSample: https://www.ncbi.nlm.nih.gov/biosam...   \n",
      "GSM5583417  BioSample: https://www.ncbi.nlm.nih.gov/biosam...   \n",
      "GSM5583418  BioSample: https://www.ncbi.nlm.nih.gov/biosam...   \n",
      "GSM5583419  BioSample: https://www.ncbi.nlm.nih.gov/biosam...   \n",
      "\n",
      "                                         supplementary_file_1  \\\n",
      "sample_id                                                       \n",
      "GSM5583415  ftp://ftp.ncbi.nlm.nih.gov/geo/samples/GSM5583...   \n",
      "GSM5583416  ftp://ftp.ncbi.nlm.nih.gov/geo/samples/GSM5583...   \n",
      "GSM5583417  ftp://ftp.ncbi.nlm.nih.gov/geo/samples/GSM5583...   \n",
      "GSM5583418  ftp://ftp.ncbi.nlm.nih.gov/geo/samples/GSM5583...   \n",
      "GSM5583419  ftp://ftp.ncbi.nlm.nih.gov/geo/samples/GSM5583...   \n",
      "\n",
      "                                         supplementary_file_2  series_id  \\\n",
      "sample_id                                                                  \n",
      "GSM5583415  ftp://ftp.ncbi.nlm.nih.gov/geo/samples/GSM5583...  GSE184290   \n",
      "GSM5583416  ftp://ftp.ncbi.nlm.nih.gov/geo/samples/GSM5583...  GSE184290   \n",
      "GSM5583417  ftp://ftp.ncbi.nlm.nih.gov/geo/samples/GSM5583...  GSE184290   \n",
      "GSM5583418  ftp://ftp.ncbi.nlm.nih.gov/geo/samples/GSM5583...  GSE184290   \n",
      "GSM5583419  ftp://ftp.ncbi.nlm.nih.gov/geo/samples/GSM5583...  GSE184290   \n",
      "\n",
      "           data_row_count  \n",
      "sample_id                  \n",
      "GSM5583415              0  \n",
      "GSM5583416              0  \n",
      "GSM5583417              0  \n",
      "GSM5583418              0  \n",
      "GSM5583419              0  \n",
      "\n",
      "[5 rows x 35 columns]\n"
     ]
    }
   ],
   "source": [
    "# --- 2. Get the Phenotypic Data using GEOparse ---\n",
    "gse_id = \"GSE184290\"\n",
    "download_dir = './GEO_downloads'\n",
    "os.makedirs(download_dir, exist_ok=True)\n",
    "gse = GEOparse.get_GEO(geo=gse_id, destdir=download_dir)\n",
    "\n",
    "all_sample_metadata = []\n",
    "for gsm_id, gsm_obj in gse.gsms.items():\n",
    "    sample_metadata = {key: value[0] if value else None for key, value in gsm_obj.metadata.items()}\n",
    "    sample_metadata['sample_id'] = gsm_id\n",
    "    all_sample_metadata.append(sample_metadata)\n",
    "\n",
    "pheno_data_df = pd.DataFrame(all_sample_metadata)\n",
    "pheno_data_df = pheno_data_df.set_index('sample_id')\n",
    "\n",
    "print(\"\\nPhenotypic Data DataFrame shape (samples x features):\", pheno_data_df.shape)\n",
    "print(\"Phenotypic Data DataFrame head:\")\n",
    "print(pheno_data_df.head())"
   ]
  },
  {
   "cell_type": "code",
   "execution_count": 18,
   "id": "079b3ca4-94cf-4478-b913-43b14334f1f0",
   "metadata": {},
   "outputs": [],
   "source": [
    "from GEOparse import get_GEO\n"
   ]
  },
  {
   "cell_type": "code",
   "execution_count": 41,
   "id": "3e5316ff-7fb0-4e11-818e-dfe166e78dc1",
   "metadata": {},
   "outputs": [
    {
     "name": "stdout",
     "output_type": "stream",
     "text": [
      "\n",
      "AnnData object created from combined counts. Shape (cells x genes): (2532, 15547)\n"
     ]
    },
    {
     "name": "stderr",
     "output_type": "stream",
     "text": [
      "/tmp/ipykernel_19169/1125107622.py:3: FutureWarning: X.dtype being converted to np.float32 from int64. In the next version of anndata (0.9) conversion will not be automatic. Pass dtype explicitly to avoid this warning. Pass `AnnData(X, dtype=X.dtype, ...)` to get the future behavour.\n",
      "  adata = ad.AnnData(combined_counts_df)\n"
     ]
    }
   ],
   "source": [
    "# --- 3. Create the AnnData object ---\n",
    "# The combined_counts_df is already cells x genes, so no further transpose needed for ad.AnnData\n",
    "adata = ad.AnnData(combined_counts_df)\n",
    "\n",
    "print(\"\\nAnnData object created from combined counts. Shape (cells x genes):\", adata.shape)\n"
   ]
  },
  {
   "cell_type": "code",
   "execution_count": 44,
   "id": "4f1a1a95-1dd9-4463-ad64-9505a8cf7672",
   "metadata": {},
   "outputs": [],
   "source": [
    "# --- 4. Populate .obs (observation/cell metadata) - SIMPLER AND MORE ROBUST ---\n",
    "\n",
    "# First, add the 'original_sample_id' column to adata.obs\n",
    "# Ensure the series index aligns with adata.obs_names\n",
    "adata.obs['original_sample_id'] = original_sample_id_series.loc[adata.obs_names]\n",
    "\n",
    "# Now, perform the merge directly on adata.obs.\n",
    "# The 'original_sample_id' column in adata.obs will be matched with the index of pheno_data_df.\n",
    "# Use .copy() to ensure you're working on a new DataFrame slice and not modifying inplace unexpectedly.\n",
    "adata.obs = adata.obs.merge(\n",
    "    pheno_data_df,\n",
    "    left_on='original_sample_id', # Column in adata.obs to use for merging\n",
    "    right_index=True,             # Use the index of pheno_data_df for merging\n",
    "    how='left'\n",
    ").set_index(adata.obs_names) # IMPORTANT: Re-set the index back to original cell barcodes\n"
   ]
  },
  {
   "cell_type": "code",
   "execution_count": 45,
   "id": "146a97fb-679b-47be-b7ab-9b0c6dbb48bc",
   "metadata": {},
   "outputs": [
    {
     "name": "stdout",
     "output_type": "stream",
     "text": [
      "\n",
      "Final AnnData object:\n",
      "AnnData object with n_obs × n_vars = 2532 × 15547\n",
      "    obs: 'original_sample_id', 'title_x', 'geo_accession_x', 'status_x', 'submission_date_x', 'last_update_date_x', 'type_x', 'channel_count_x', 'source_name_ch1_x', 'organism_ch1_x', 'taxid_ch1_x', 'characteristics_ch1_x', 'molecule_ch1_x', 'extract_protocol_ch1_x', 'description_x', 'data_processing_x', 'platform_id_x', 'contact_name_x', 'contact_email_x', 'contact_laboratory_x', 'contact_department_x', 'contact_institute_x', 'contact_address_x', 'contact_city_x', 'contact_state_x', 'contact_zip/postal_code_x', 'contact_country_x', 'instrument_model_x', 'library_selection_x', 'library_source_x', 'library_strategy_x', 'relation_x', 'supplementary_file_1_x', 'supplementary_file_2_x', 'series_id_x', 'data_row_count_x', 'title_y', 'geo_accession_y', 'status_y', 'submission_date_y', 'last_update_date_y', 'type_y', 'channel_count_y', 'source_name_ch1_y', 'organism_ch1_y', 'taxid_ch1_y', 'characteristics_ch1_y', 'molecule_ch1_y', 'extract_protocol_ch1_y', 'description_y', 'data_processing_y', 'platform_id_y', 'contact_name_y', 'contact_email_y', 'contact_laboratory_y', 'contact_department_y', 'contact_institute_y', 'contact_address_y', 'contact_city_y', 'contact_state_y', 'contact_zip/postal_code_y', 'contact_country_y', 'instrument_model_y', 'library_selection_y', 'library_source_y', 'library_strategy_y', 'relation_y', 'supplementary_file_1_y', 'supplementary_file_2_y', 'series_id_y', 'data_row_count_y'\n",
      "\n",
      "adata.obs head (with merged metadata):\n",
      "                   original_sample_id title_x geo_accession_x  \\\n",
      "TGCTTCGTCTGTACAG_1         GSM5583415  AM_KP-      GSM5583415   \n",
      "AGTAGCTAGTAACCTC_1         GSM5583415  AM_KP-      GSM5583415   \n",
      "GTGGAGAAGAGTACCG_1         GSM5583415  AM_KP-      GSM5583415   \n",
      "GTAATGCTCTCATTAC_1         GSM5583415  AM_KP-      GSM5583415   \n",
      "CGCATAAAGTCGAAAT_1         GSM5583415  AM_KP-      GSM5583415   \n",
      "\n",
      "                                 status_x submission_date_x  \\\n",
      "TGCTTCGTCTGTACAG_1  Public on Sep 16 2022       Sep 16 2021   \n",
      "AGTAGCTAGTAACCTC_1  Public on Sep 16 2022       Sep 16 2021   \n",
      "GTGGAGAAGAGTACCG_1  Public on Sep 16 2022       Sep 16 2021   \n",
      "GTAATGCTCTCATTAC_1  Public on Sep 16 2022       Sep 16 2021   \n",
      "CGCATAAAGTCGAAAT_1  Public on Sep 16 2022       Sep 16 2021   \n",
      "\n",
      "                   last_update_date_x type_x channel_count_x  \\\n",
      "TGCTTCGTCTGTACAG_1        Sep 16 2022    SRA               1   \n",
      "AGTAGCTAGTAACCTC_1        Sep 16 2022    SRA               1   \n",
      "GTGGAGAAGAGTACCG_1        Sep 16 2022    SRA               1   \n",
      "GTAATGCTCTCATTAC_1        Sep 16 2022    SRA               1   \n",
      "CGCATAAAGTCGAAAT_1        Sep 16 2022    SRA               1   \n",
      "\n",
      "                   source_name_ch1_x organism_ch1_x  ... contact_country_y  \\\n",
      "TGCTTCGTCTGTACAG_1              Lung   Mus musculus  ...    United Kingdom   \n",
      "AGTAGCTAGTAACCTC_1              Lung   Mus musculus  ...    United Kingdom   \n",
      "GTGGAGAAGAGTACCG_1              Lung   Mus musculus  ...    United Kingdom   \n",
      "GTAATGCTCTCATTAC_1              Lung   Mus musculus  ...    United Kingdom   \n",
      "CGCATAAAGTCGAAAT_1              Lung   Mus musculus  ...    United Kingdom   \n",
      "\n",
      "                       instrument_model_y library_selection_y  \\\n",
      "TGCTTCGTCTGTACAG_1  Illumina NovaSeq 6000                cDNA   \n",
      "AGTAGCTAGTAACCTC_1  Illumina NovaSeq 6000                cDNA   \n",
      "GTGGAGAAGAGTACCG_1  Illumina NovaSeq 6000                cDNA   \n",
      "GTAATGCTCTCATTAC_1  Illumina NovaSeq 6000                cDNA   \n",
      "CGCATAAAGTCGAAAT_1  Illumina NovaSeq 6000                cDNA   \n",
      "\n",
      "                   library_source_y library_strategy_y  \\\n",
      "TGCTTCGTCTGTACAG_1   transcriptomic            RNA-Seq   \n",
      "AGTAGCTAGTAACCTC_1   transcriptomic            RNA-Seq   \n",
      "GTGGAGAAGAGTACCG_1   transcriptomic            RNA-Seq   \n",
      "GTAATGCTCTCATTAC_1   transcriptomic            RNA-Seq   \n",
      "CGCATAAAGTCGAAAT_1   transcriptomic            RNA-Seq   \n",
      "\n",
      "                                                           relation_y  \\\n",
      "TGCTTCGTCTGTACAG_1  BioSample: https://www.ncbi.nlm.nih.gov/biosam...   \n",
      "AGTAGCTAGTAACCTC_1  BioSample: https://www.ncbi.nlm.nih.gov/biosam...   \n",
      "GTGGAGAAGAGTACCG_1  BioSample: https://www.ncbi.nlm.nih.gov/biosam...   \n",
      "GTAATGCTCTCATTAC_1  BioSample: https://www.ncbi.nlm.nih.gov/biosam...   \n",
      "CGCATAAAGTCGAAAT_1  BioSample: https://www.ncbi.nlm.nih.gov/biosam...   \n",
      "\n",
      "                                               supplementary_file_1_y  \\\n",
      "TGCTTCGTCTGTACAG_1  ftp://ftp.ncbi.nlm.nih.gov/geo/samples/GSM5583...   \n",
      "AGTAGCTAGTAACCTC_1  ftp://ftp.ncbi.nlm.nih.gov/geo/samples/GSM5583...   \n",
      "GTGGAGAAGAGTACCG_1  ftp://ftp.ncbi.nlm.nih.gov/geo/samples/GSM5583...   \n",
      "GTAATGCTCTCATTAC_1  ftp://ftp.ncbi.nlm.nih.gov/geo/samples/GSM5583...   \n",
      "CGCATAAAGTCGAAAT_1  ftp://ftp.ncbi.nlm.nih.gov/geo/samples/GSM5583...   \n",
      "\n",
      "                                               supplementary_file_2_y  \\\n",
      "TGCTTCGTCTGTACAG_1  ftp://ftp.ncbi.nlm.nih.gov/geo/samples/GSM5583...   \n",
      "AGTAGCTAGTAACCTC_1  ftp://ftp.ncbi.nlm.nih.gov/geo/samples/GSM5583...   \n",
      "GTGGAGAAGAGTACCG_1  ftp://ftp.ncbi.nlm.nih.gov/geo/samples/GSM5583...   \n",
      "GTAATGCTCTCATTAC_1  ftp://ftp.ncbi.nlm.nih.gov/geo/samples/GSM5583...   \n",
      "CGCATAAAGTCGAAAT_1  ftp://ftp.ncbi.nlm.nih.gov/geo/samples/GSM5583...   \n",
      "\n",
      "                   series_id_y data_row_count_y  \n",
      "TGCTTCGTCTGTACAG_1   GSE184290                0  \n",
      "AGTAGCTAGTAACCTC_1   GSE184290                0  \n",
      "GTGGAGAAGAGTACCG_1   GSE184290                0  \n",
      "GTAATGCTCTCATTAC_1   GSE184290                0  \n",
      "CGCATAAAGTCGAAAT_1   GSE184290                0  \n",
      "\n",
      "[5 rows x 71 columns]\n",
      "\n",
      "Columns in adata.obs:\n",
      "Index(['original_sample_id', 'title_x', 'geo_accession_x', 'status_x',\n",
      "       'submission_date_x', 'last_update_date_x', 'type_x', 'channel_count_x',\n",
      "       'source_name_ch1_x', 'organism_ch1_x', 'taxid_ch1_x',\n",
      "       'characteristics_ch1_x', 'molecule_ch1_x', 'extract_protocol_ch1_x',\n",
      "       'description_x', 'data_processing_x', 'platform_id_x', 'contact_name_x',\n",
      "       'contact_email_x', 'contact_laboratory_x', 'contact_department_x',\n",
      "       'contact_institute_x', 'contact_address_x', 'contact_city_x',\n",
      "       'contact_state_x', 'contact_zip/postal_code_x', 'contact_country_x',\n",
      "       'instrument_model_x', 'library_selection_x', 'library_source_x',\n",
      "       'library_strategy_x', 'relation_x', 'supplementary_file_1_x',\n",
      "       'supplementary_file_2_x', 'series_id_x', 'data_row_count_x', 'title_y',\n",
      "       'geo_accession_y', 'status_y', 'submission_date_y',\n",
      "       'last_update_date_y', 'type_y', 'channel_count_y', 'source_name_ch1_y',\n",
      "       'organism_ch1_y', 'taxid_ch1_y', 'characteristics_ch1_y',\n",
      "       'molecule_ch1_y', 'extract_protocol_ch1_y', 'description_y',\n",
      "       'data_processing_y', 'platform_id_y', 'contact_name_y',\n",
      "       'contact_email_y', 'contact_laboratory_y', 'contact_department_y',\n",
      "       'contact_institute_y', 'contact_address_y', 'contact_city_y',\n",
      "       'contact_state_y', 'contact_zip/postal_code_y', 'contact_country_y',\n",
      "       'instrument_model_y', 'library_selection_y', 'library_source_y',\n",
      "       'library_strategy_y', 'relation_y', 'supplementary_file_1_y',\n",
      "       'supplementary_file_2_y', 'series_id_y', 'data_row_count_y'],\n",
      "      dtype='object')\n"
     ]
    }
   ],
   "source": [
    "# --- 5. Populate .var (variable/gene metadata) ---\n",
    "adata.var_names_make_unique()\n",
    "\n",
    "\n",
    "print(\"\\nFinal AnnData object:\")\n",
    "print(adata)\n",
    "print(\"\\nadata.obs head (with merged metadata):\")\n",
    "print(adata.obs.head())\n",
    "print(\"\\nColumns in adata.obs:\")\n",
    "print(adata.obs.columns)"
   ]
  },
  {
   "cell_type": "code",
   "execution_count": 19,
   "id": "5a7945d2-22ba-4044-b33b-03cfd7a86ec1",
   "metadata": {},
   "outputs": [
    {
     "name": "stderr",
     "output_type": "stream",
     "text": [
      "16-Jun-2025 18:10:42 INFO GEOparse - Downloading ftp://ftp.ncbi.nlm.nih.gov/geo/series/GSE184nnn/GSE184290/soft/GSE184290_family.soft.gz to ./GSE184290_family.soft.gz\n",
      "16-Jun-2025 18:10:42 INFO utils - Downloading ftp://ftp.ncbi.nlm.nih.gov/geo/series/GSE184nnn/GSE184290/soft/GSE184290_family.soft.gz to ./GSE184290_family.soft.gz\n",
      "\n"
     ]
    },
    {
     "name": "stdout",
     "output_type": "stream",
     "text": [
      " 100 % [==============================================================>]   2.9KiB /  2.9KiB    0.0KiB/s  eta unknown  "
     ]
    },
    {
     "name": "stderr",
     "output_type": "stream",
     "text": [
      "16-Jun-2025 18:10:43 INFO GEOparse - Parsing ./GSE184290_family.soft.gz: \n",
      "16-Jun-2025 18:10:43 DEBUG GEOparse - DATABASE: GeoMiame\n",
      "16-Jun-2025 18:10:43 DEBUG GEOparse - SERIES: GSE184290\n",
      "16-Jun-2025 18:10:43 DEBUG GEOparse - PLATFORM: GPL24247\n",
      "16-Jun-2025 18:10:43 DEBUG GEOparse - SAMPLE: GSM5583415\n",
      "16-Jun-2025 18:10:43 DEBUG GEOparse - SAMPLE: GSM5583416\n",
      "16-Jun-2025 18:10:43 DEBUG GEOparse - SAMPLE: GSM5583417\n",
      "16-Jun-2025 18:10:43 DEBUG GEOparse - SAMPLE: GSM5583418\n",
      "16-Jun-2025 18:10:43 DEBUG GEOparse - SAMPLE: GSM5583419\n",
      "16-Jun-2025 18:10:43 DEBUG GEOparse - SAMPLE: GSM5583420\n"
     ]
    },
    {
     "name": "stdout",
     "output_type": "stream",
     "text": [
      "\n"
     ]
    }
   ],
   "source": [
    "gse = get_GEO(geo=\"GSE184290\", destdir=\"./\")"
   ]
  },
  {
   "cell_type": "code",
   "execution_count": 46,
   "id": "9e904ec7-0d03-4d62-9da8-dcad3845a8bc",
   "metadata": {},
   "outputs": [],
   "source": [
    "# Define the file path where you want to save it\n",
    "output_file = \"my_single_cell_data.h5ad\"\n",
    "\n",
    "# Save the AnnData object\n",
    "adata.write(output_file)"
   ]
  },
  {
   "cell_type": "code",
   "execution_count": 21,
   "id": "1ca73508-38ea-4658-b23c-5571075058ed",
   "metadata": {},
   "outputs": [],
   "source": [
    "# Initialize an empty list to store metadata for each sample\n",
    "all_sample_metadata = []\n",
    "\n",
    "# Iterate through each GSM (sample) in the GSE object\n",
    "for gsm_id, gsm_obj in gse.gsms.items():\n",
    "    # The metadata for each sample is in gsm_obj.metadata\n",
    "    # It's a dictionary of lists (because some attributes can have multiple values)\n",
    "    sample_metadata = {key: value[0] if value else None for key, value in gsm_obj.metadata.items()}\n",
    "    sample_metadata['sample_id'] = gsm_id # Add the GSM ID itself\n",
    "    all_sample_metadata.append(sample_metadata)"
   ]
  },
  {
   "cell_type": "code",
   "execution_count": 23,
   "id": "aa158d68-71f2-44c6-97e1-e71a609509c1",
   "metadata": {},
   "outputs": [
    {
     "name": "stdout",
     "output_type": "stream",
     "text": [
      "Phenotypic Data DataFrame:\n",
      "                 title geo_accession                 status submission_date  \\\n",
      "sample_id                                                                     \n",
      "GSM5583415      AM_KP-    GSM5583415  Public on Sep 16 2022     Sep 16 2021   \n",
      "GSM5583416      AM_KP+    GSM5583416  Public on Sep 16 2022     Sep 16 2021   \n",
      "GSM5583417      IM_KP-    GSM5583417  Public on Sep 16 2022     Sep 16 2021   \n",
      "GSM5583418      IM_KP+    GSM5583418  Public on Sep 16 2022     Sep 16 2021   \n",
      "GSM5583419  AM_Control    GSM5583419  Public on Sep 16 2022     Sep 16 2021   \n",
      "\n",
      "           last_update_date type channel_count source_name_ch1  organism_ch1  \\\n",
      "sample_id                                                                      \n",
      "GSM5583415      Sep 16 2022  SRA             1            Lung  Mus musculus   \n",
      "GSM5583416      Sep 16 2022  SRA             1            Lung  Mus musculus   \n",
      "GSM5583417      Sep 16 2022  SRA             1            Lung  Mus musculus   \n",
      "GSM5583418      Sep 16 2022  SRA             1            Lung  Mus musculus   \n",
      "GSM5583419      Sep 16 2022  SRA             1            Lung  Mus musculus   \n",
      "\n",
      "           taxid_ch1  ... contact_country       instrument_model  \\\n",
      "sample_id             ...                                          \n",
      "GSM5583415     10090  ...  United Kingdom  Illumina NovaSeq 6000   \n",
      "GSM5583416     10090  ...  United Kingdom  Illumina NovaSeq 6000   \n",
      "GSM5583417     10090  ...  United Kingdom  Illumina NovaSeq 6000   \n",
      "GSM5583418     10090  ...  United Kingdom  Illumina NovaSeq 6000   \n",
      "GSM5583419     10090  ...  United Kingdom  Illumina NovaSeq 6000   \n",
      "\n",
      "           library_selection  library_source library_strategy  \\\n",
      "sample_id                                                       \n",
      "GSM5583415              cDNA  transcriptomic          RNA-Seq   \n",
      "GSM5583416              cDNA  transcriptomic          RNA-Seq   \n",
      "GSM5583417              cDNA  transcriptomic          RNA-Seq   \n",
      "GSM5583418              cDNA  transcriptomic          RNA-Seq   \n",
      "GSM5583419              cDNA  transcriptomic          RNA-Seq   \n",
      "\n",
      "                                                     relation  \\\n",
      "sample_id                                                       \n",
      "GSM5583415  BioSample: https://www.ncbi.nlm.nih.gov/biosam...   \n",
      "GSM5583416  BioSample: https://www.ncbi.nlm.nih.gov/biosam...   \n",
      "GSM5583417  BioSample: https://www.ncbi.nlm.nih.gov/biosam...   \n",
      "GSM5583418  BioSample: https://www.ncbi.nlm.nih.gov/biosam...   \n",
      "GSM5583419  BioSample: https://www.ncbi.nlm.nih.gov/biosam...   \n",
      "\n",
      "                                         supplementary_file_1  \\\n",
      "sample_id                                                       \n",
      "GSM5583415  ftp://ftp.ncbi.nlm.nih.gov/geo/samples/GSM5583...   \n",
      "GSM5583416  ftp://ftp.ncbi.nlm.nih.gov/geo/samples/GSM5583...   \n",
      "GSM5583417  ftp://ftp.ncbi.nlm.nih.gov/geo/samples/GSM5583...   \n",
      "GSM5583418  ftp://ftp.ncbi.nlm.nih.gov/geo/samples/GSM5583...   \n",
      "GSM5583419  ftp://ftp.ncbi.nlm.nih.gov/geo/samples/GSM5583...   \n",
      "\n",
      "                                         supplementary_file_2  series_id  \\\n",
      "sample_id                                                                  \n",
      "GSM5583415  ftp://ftp.ncbi.nlm.nih.gov/geo/samples/GSM5583...  GSE184290   \n",
      "GSM5583416  ftp://ftp.ncbi.nlm.nih.gov/geo/samples/GSM5583...  GSE184290   \n",
      "GSM5583417  ftp://ftp.ncbi.nlm.nih.gov/geo/samples/GSM5583...  GSE184290   \n",
      "GSM5583418  ftp://ftp.ncbi.nlm.nih.gov/geo/samples/GSM5583...  GSE184290   \n",
      "GSM5583419  ftp://ftp.ncbi.nlm.nih.gov/geo/samples/GSM5583...  GSE184290   \n",
      "\n",
      "           data_row_count  \n",
      "sample_id                  \n",
      "GSM5583415              0  \n",
      "GSM5583416              0  \n",
      "GSM5583417              0  \n",
      "GSM5583418              0  \n",
      "GSM5583419              0  \n",
      "\n",
      "[5 rows x 35 columns]\n"
     ]
    }
   ],
   "source": [
    "pheno_data_df = pd.DataFrame(all_sample_metadata)\n",
    "pheno_data_df = pheno_data_df.set_index('sample_id')\n",
    "\n",
    "print(\"Phenotypic Data DataFrame:\")\n",
    "print(pheno_data_df.head())"
   ]
  },
  {
   "cell_type": "code",
   "execution_count": null,
   "id": "b70ebd57-eb6a-47cd-8e5a-e7ac5692bc9e",
   "metadata": {},
   "outputs": [],
   "source": []
  }
 ],
 "metadata": {
  "kernelspec": {
   "display_name": "Python 3 (ipykernel)",
   "language": "python",
   "name": "python3"
  },
  "language_info": {
   "codemirror_mode": {
    "name": "ipython",
    "version": 3
   },
   "file_extension": ".py",
   "mimetype": "text/x-python",
   "name": "python",
   "nbconvert_exporter": "python",
   "pygments_lexer": "ipython3",
   "version": "3.9.23"
  }
 },
 "nbformat": 4,
 "nbformat_minor": 5
}
